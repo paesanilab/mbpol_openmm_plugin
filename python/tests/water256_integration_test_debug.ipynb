{
 "cells": [
  {
   "cell_type": "code",
   "execution_count": null,
   "metadata": {
    "collapsed": true
   },
   "outputs": [],
   "source": [
    "from __future__ import print_function\n",
    "\n",
    "from simtk.openmm import app\n",
    "import simtk.openmm as mm\n",
    "from simtk import unit\n",
    "import sys\n",
    "import mbpol"
   ]
  },
  {
   "cell_type": "code",
   "execution_count": null,
   "metadata": {
    "collapsed": false
   },
   "outputs": [],
   "source": [
    "nonbondedMethod=app.PME\n",
    "expected_energy = -2270.88890\n",
    "pdb = app.PDBFile(\"pdb_files/water256_integration_test.pdb\")\n",
    "forcefield = app.ForceField(\"../mbpol.xml\")"
   ]
  },
  {
   "cell_type": "code",
   "execution_count": null,
   "metadata": {
    "collapsed": false
   },
   "outputs": [],
   "source": [
    "#forcefield._forces.pop(1)\n",
    "forcefield._forces[2:3]"
   ]
  },
  {
   "cell_type": "code",
   "execution_count": null,
   "metadata": {
    "collapsed": false
   },
   "outputs": [],
   "source": [
    "      \n",
    "nonbondedCutoff = 0.9*unit.nanometer\n",
    "        \n",
    "if (nonbondedMethod == app.PME):\n",
    "    boxDimension = 19.3996888399961804/10.\n",
    "    boxsize = [boxDimension, boxDimension, boxDimension]\n",
    "    pdb.topology.setUnitCellDimensions( boxsize )\n",
    "            \n",
    "system = forcefield.createSystem(pdb.topology, nonbondedMethod=nonbondedMethod, nonbondedCutoff=nonbondedCutoff)"
   ]
  },
  {
   "cell_type": "code",
   "execution_count": null,
   "metadata": {
    "collapsed": false
   },
   "outputs": [],
   "source": [
    "for  i in range(system.getNumForces()):\n",
    "    system.getForce(i).setForceGroup(i)\n",
    "    print (system.getForce(i))\n",
    "forceLabels = [\"Electrostatics\", \"TwoBody\", \"ThreeBody\", \"CMMotionRemover\", \"CustomDispersion\"]\n",
    "#forceLabels = [\"Electrostatics\", \"OneBody\", \"TwoBody\", \"ThreeBody\", \"CMMotionRemover\", \"CustomDispersion\"]"
   ]
  },
  {
   "cell_type": "code",
   "execution_count": null,
   "metadata": {
    "collapsed": false
   },
   "outputs": [],
   "source": [
    "            \n",
    "integrator = mm.LangevinIntegrator(0.0, 0.1, 0.01)\n",
    "platform = mm.Platform.getPlatformByName('Reference')\n",
    "simulation = app.Simulation(pdb.topology, system, integrator, platform)\n",
    "simulation.context.setPositions(pdb.positions)\n",
    "simulation.context.computeVirtualSites()\n",
    "state = simulation.context.getState(getForces=True, getEnergy=True, getPositions=True)\n",
    "potential_energy = state.getPotentialEnergy()\n",
    "potential_energy.in_units_of(unit.kilocalorie_per_mole)"
   ]
  },
  {
   "cell_type": "code",
   "execution_count": null,
   "metadata": {
    "collapsed": false
   },
   "outputs": [],
   "source": [
    "for  i in range(system.getNumForces()):\n",
    "    state = simulation.context.getState(getEnergy=True, groups=pow(2,i))\n",
    "    print(\"Energy {}: {}\".format(forceLabels[i], state.getPotentialEnergy().in_units_of(unit.kilocalorie_per_mole)))"
   ]
  },
  {
   "cell_type": "code",
   "execution_count": null,
   "metadata": {
    "collapsed": false
   },
   "outputs": [],
   "source": [
    "        \n",
    "print(potential_energy.in_units_of(unit.kilocalorie_per_mole)._value)\n",
    "        \n",
    "        \n",
    "print(abs(potential_energy.in_units_of(unit.kilocalorie_per_mole)._value - expected_energy) < 1)"
   ]
  },
  {
   "cell_type": "code",
   "execution_count": null,
   "metadata": {
    "collapsed": true
   },
   "outputs": [],
   "source": []
  }
 ],
 "metadata": {
  "kernelspec": {
   "display_name": "Python 3",
   "language": "python",
   "name": "python3"
  },
  "language_info": {
   "codemirror_mode": {
    "name": "ipython",
    "version": 3
   },
   "file_extension": ".py",
   "mimetype": "text/x-python",
   "name": "python",
   "nbconvert_exporter": "python",
   "pygments_lexer": "ipython3",
   "version": "3.4.3"
  }
 },
 "nbformat": 4,
 "nbformat_minor": 0
}
