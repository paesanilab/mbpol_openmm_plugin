{
 "cells": [
  {
   "cell_type": "code",
   "execution_count": 1,
   "metadata": {
    "collapsed": true
   },
   "outputs": [],
   "source": [
    "from __future__ import print_function"
   ]
  },
  {
   "cell_type": "code",
   "execution_count": 2,
   "metadata": {
    "collapsed": true
   },
   "outputs": [],
   "source": [
    "from simtk.openmm import app\n",
    "import simtk.openmm as mm\n",
    "from simtk import unit\n",
    "import sys\n",
    "import mbpol"
   ]
  },
  {
   "cell_type": "code",
   "execution_count": 3,
   "metadata": {
    "collapsed": true
   },
   "outputs": [],
   "source": [
    "pdb = app.PDBFile(\"water3.pdb\")"
   ]
  },
  {
   "cell_type": "code",
   "execution_count": 4,
   "metadata": {
    "collapsed": true
   },
   "outputs": [],
   "source": [
    "forcefield = app.ForceField(\"mbpol.xml\")"
   ]
  },
  {
   "cell_type": "code",
   "execution_count": null,
   "metadata": {
    "collapsed": true
   },
   "outputs": [],
   "source": []
  },
  {
   "cell_type": "code",
   "execution_count": 5,
   "metadata": {
    "collapsed": false
   },
   "outputs": [],
   "source": [
    "forcefield._forces = forcefield._forces[-1:]"
   ]
  },
  {
   "cell_type": "code",
   "execution_count": 6,
   "metadata": {
    "collapsed": true
   },
   "outputs": [],
   "source": [
    "#forcefield = app.ForceField(\"customdispersion.xml\")"
   ]
  },
  {
   "cell_type": "code",
   "execution_count": 7,
   "metadata": {
    "collapsed": false
   },
   "outputs": [
    {
     "data": {
      "text/plain": [
       "[<mbpol.MBPolDispersionForceGenerator at 0x7fd2641cc2e8>]"
      ]
     },
     "execution_count": 7,
     "metadata": {},
     "output_type": "execute_result"
    }
   ],
   "source": [
    "forcefield._forces"
   ]
  },
  {
   "cell_type": "code",
   "execution_count": 8,
   "metadata": {
    "collapsed": true
   },
   "outputs": [],
   "source": [
    "nonbondedMethod = app.CutoffNonPeriodic\n",
    "nonbondedCutoff = 1e3*unit.nanometer"
   ]
  },
  {
   "cell_type": "code",
   "execution_count": 9,
   "metadata": {
    "collapsed": false
   },
   "outputs": [],
   "source": [
    "system = forcefield.createSystem(pdb.topology,\n",
    "    nonbondedMethod=nonbondedMethod, nonBondedCutoff=nonbondedCutoff)\n",
    "integrator = mm.VerletIntegrator(0.02*unit.femtoseconds)"
   ]
  },
  {
   "cell_type": "code",
   "execution_count": 10,
   "metadata": {
    "collapsed": false
   },
   "outputs": [
    {
     "data": {
      "text/plain": [
       "[<simtk.openmm.openmm.Force; proxy of <Swig Object of type 'OpenMM::Force *' at 0x7fd264533cf0> >,\n",
       " <simtk.openmm.openmm.CMMotionRemover; proxy of <Swig Object of type 'OpenMM::CMMotionRemover *' at 0x7fd264533d50> >]"
      ]
     },
     "execution_count": 10,
     "metadata": {},
     "output_type": "execute_result"
    }
   ],
   "source": [
    "system.getForces()"
   ]
  },
  {
   "cell_type": "code",
   "execution_count": 11,
   "metadata": {
    "collapsed": true
   },
   "outputs": [],
   "source": [
    "platform = mm.Platform.getPlatformByName('Reference')"
   ]
  },
  {
   "cell_type": "code",
   "execution_count": 12,
   "metadata": {
    "collapsed": false
   },
   "outputs": [],
   "source": [
    "simulation = app.Simulation(pdb.topology, system, integrator, platform)"
   ]
  },
  {
   "cell_type": "code",
   "execution_count": 13,
   "metadata": {
    "collapsed": false,
    "scrolled": true
   },
   "outputs": [],
   "source": [
    "simulation.context.setPositions(pdb.positions)\n",
    "simulation.context.computeVirtualSites()"
   ]
  },
  {
   "cell_type": "code",
   "execution_count": 14,
   "metadata": {
    "collapsed": false
   },
   "outputs": [
    {
     "data": {
      "text/plain": [
       "Quantity(value=-6.853886061330228, unit=kilocalorie/mole)"
      ]
     },
     "execution_count": 14,
     "metadata": {},
     "output_type": "execute_result"
    }
   ],
   "source": [
    "state = simulation.context.getState(getForces=True, getEnergy=True, getPositions=True)\n",
    "potential_energy = state.getPotentialEnergy()\n",
    "potential_energy.in_units_of(unit.kilocalorie_per_mole)"
   ]
  },
  {
   "cell_type": "code",
   "execution_count": 15,
   "metadata": {
    "collapsed": false
   },
   "outputs": [
    {
     "name": "stdout",
     "output_type": "stream",
     "text": [
      "(-0.08559163700253991, 2.878055364257541, -9.572714266220844) kcal/(A mol)\n",
      "(-0.30271027696913383, 0.4549132014494149, -0.6987906635221176) kcal/(A mol)\n",
      "(0.07270942625183874, 0.10492694530495766, -0.3315074381570443) kcal/(A mol)\n",
      "(0.0, 0.0, 0.0) kcal/(A mol)\n",
      "(1.4802514534176519, 3.169867408554871, 2.38910460550229) kcal/(A mol)\n",
      "(1.8907975161791784, 1.7652448900712558, 6.648640479558246) kcal/(A mol)\n",
      "(0.10141571595847382, 0.1144326464948371, 0.15598134362451058) kcal/(A mol)\n",
      "(0.0, 0.0, 0.0) kcal/(A mol)\n",
      "(-0.8166180512818317, -1.809455719002467, 0.23855249788661212) kcal/(A mol)\n",
      "(-1.2400519434615653, -3.9321399239948422, 1.3718518077018695) kcal/(A mol)\n",
      "(-1.1002022030920728, -2.7458448131355677, -0.20111836637352268) kcal/(A mol)\n",
      "(0.0, 0.0, 0.0) kcal/(A mol)\n"
     ]
    }
   ],
   "source": [
    "kilocalorie_per_mole_per_angstrom = unit.kilocalorie_per_mole/unit.angstrom\n",
    "for f in state.getForces():\n",
    "    print(f.in_units_of(kilocalorie_per_mole_per_angstrom))"
   ]
  },
  {
   "cell_type": "code",
   "execution_count": null,
   "metadata": {
    "collapsed": true
   },
   "outputs": [],
   "source": []
  }
 ],
 "metadata": {
  "kernelspec": {
   "display_name": "Python 3",
   "language": "python",
   "name": "python3"
  },
  "language_info": {
   "codemirror_mode": {
    "name": "ipython",
    "version": 3
   },
   "file_extension": ".py",
   "mimetype": "text/x-python",
   "name": "python",
   "nbconvert_exporter": "python",
   "pygments_lexer": "ipython3",
   "version": "3.4.3"
  }
 },
 "nbformat": 4,
 "nbformat_minor": 0
}
