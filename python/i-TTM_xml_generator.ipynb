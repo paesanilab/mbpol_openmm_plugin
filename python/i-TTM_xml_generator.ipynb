{
 "cells": [
  {
   "cell_type": "code",
   "execution_count": 1,
   "metadata": {
    "collapsed": true
   },
   "outputs": [],
   "source": [
    "percent_pol = 1  # 1 or .5"
   ]
  },
  {
   "cell_type": "code",
   "execution_count": 2,
   "metadata": {
    "collapsed": false
   },
   "outputs": [],
   "source": [
    "import binascii\n",
    "import xml.etree.ElementTree as etree\n",
    "with open(\"i-TTM_template.xml\") as f:\n",
    "    ForceField = etree.parse( f ).getroot()\n",
    "#etree.dump(ForceField)"
   ]
  },
  {
   "cell_type": "code",
   "execution_count": 3,
   "metadata": {
    "collapsed": false
   },
   "outputs": [],
   "source": [
    "MBPolElectrostaticsForce = ForceField.find(\"./MBPolElectrostaticsForce\")"
   ]
  },
  {
   "cell_type": "code",
   "execution_count": 4,
   "metadata": {
    "collapsed": false,
    "scrolled": true
   },
   "outputs": [],
   "source": [
    "#while MBPolElectrostaticsForce.find(\"./Atom\") != None:\n",
    "#    MBPolElectrostaticsForce.remove( MBPolElectrostaticsForce.find(\"./Atom\") )\n"
   ]
  },
  {
   "cell_type": "code",
   "execution_count": 5,
   "metadata": {
    "collapsed": false
   },
   "outputs": [],
   "source": [
    "parameters = [\n",
    "    #type        charge         damp_fac   polariz\n",
    "    [\"MBPol-O\", -5.1966000e-01,  0.00131,  0.00131],\n",
    "    [\"MBPol-H\",  2.5983000e-01,  0.000294, 0.000294],\n",
    "    [\"MBPol-M\",  0,              0.00131,  0],\n",
    "    [\"MBPol-Li\" , 1, 0.02848e-3 ,0.02848e-3],\n",
    "    [\"MBPol-Na\" , 1, 0.14759e-3 ,0.14759e-3],\n",
    "    [\"MBPol-F\"  ,-1, 2.4669e-3  ,2.4669e-3 ],\n",
    "    [\"MBPol-Cl\" ,-1, 5.3602e-3  ,5.3602e-3 ],\n",
    "    [\"MBPol-Br\" ,-1, 7.1668e-3  ,7.1668e-3 ],\n",
    "    [\"MBPol-I\"  ,-1, 10.1184e-3 ,10.1184e-3],\n",
    "]"
   ]
  },
  {
   "cell_type": "code",
   "execution_count": 6,
   "metadata": {
    "collapsed": false
   },
   "outputs": [],
   "source": [
    "for x in range(0, len(parameters)):\n",
    "    p = parameters[x]\n",
    "    if x < 3 :\n",
    "        value = \"Atom type=\\\"{}\\\" charge=\\\"{}\\\" damping-factor=\\\"{}\\\" polarizability=\\\"{}\\\"\".format(p[0],p[1],p[2],p[3])\n",
    "        etree.SubElement(MBPolElectrostaticsForce, value)\n",
    "    else :\n",
    "        value = \"Atom type=\\\"{}\\\" charge=\\\"{}\\\" damping-factor=\\\"{}\\\" polarizability=\\\"{}\\\"\".format(p[0],p[1],p[2]*percent_pol,p[3]*percent_pol)\n",
    "        etree.SubElement(MBPolElectrostaticsForce, value)\n",
    "#etree.dump(ForceField)"
   ]
  },
  {
   "cell_type": "code",
   "execution_count": 7,
   "metadata": {
    "collapsed": false,
    "scrolled": true
   },
   "outputs": [],
   "source": [
    "d6table_100 = [ # a**-1\n",
    "#     O        H        M       Li       Na        F       Cl       Br        I\n",
    "9.29548, 9.77520,       0, 4.02327, 3.76951, 3.58619, 3.27542, 3.05825, 2.72314,# O\n",
    "9.77520, 9.40647,       0, 4.00672, 3.82261, 2.69768, 2.78226, 2.79804, 2.79911,# H\n",
    "      0,       0,       0,       0,       0,       0,       0,       0,       0,# M\n",
    "4.02327, 4.00672,       0, 6.63418,       0, 3.33069, 2.97021, 2.76135, 2.70532,# Li\n",
    "3.76951, 3.82261,       0,       0, 5.17793, 3.52363, 2.69336,  2.5252,  2.4457,# Na\n",
    "3.58619, 2.69768,       0, 3.33069, 3.52363, 2.04316,       0,       0,       0,#  F\n",
    "3.27542, 2.78226,       0, 2.97021, 2.69336,       0, 1.86699,       0,       0,# Cl\n",
    "3.05825, 2.79804,       0, 2.76135,  2.5252,       0,       0, 1.79922,       0,# Br\n",
    "2.72314, 2.79911,       0, 2.70532,  2.4457,       0,       0,       0, 1.79453,#  I\n",
    "]\n",
    "\n",
    "Atable_100 = [\n",
    "#     O        H        M       Li       Na        F       Cl       Br        I\n",
    "      0,       0,       0,   32318, 47827.7, 35920.3, 50180.4, 37682.2,   22210,  # 0\n",
    "      0,       0,       0, 3245.78, 4992.61, 800.553, 2594.28, 3804.53,  6215.1,  # H \n",
    "      0,       0,       0,       0,       0,       0,       0,       0,       0,  # M \n",
    "  32318, 3245.78,       0, 26110.8,       0, 18959.5, 27202.5,   27815, 36470.8,  # Li\n",
    "47827.7, 4992.61,       0,       0,  134244, 37835.8, 26832.4, 26310.6, 31172.4,  # Na\n",
    "35920.3, 800.553,       0, 31172.4, 37835.8, 1687.14,       0,       0,       0,  # F \n",
    "50180.4, 2594.28,       0, 27202.5, 26832.4,       0, 3246.54,       0,       0,  # Cl\n",
    "37682.2, 3804.53,       0,   27815, 26310.6,       0,       0, 3674.06,       0,  # Br\n",
    "  22210,  6215.1,       0, 36470.8, 31172.4,       0,       0,       0, 6672.41,  # I \n",
    "]\n",
    "\n",
    "#btable_100 = d6table_100\n",
    "\n",
    "d6table_50 = [ # a**-1\n",
    "#     O        H        M       Li       Na        F       Cl       Br        I\n",
    "9.29548, 9.77520,       0, 4.06168, 3.83356, 3.62593, 3.27841, 3.06223, 2.71168,# O\n",
    "9.77520, 9.40647,       0, 4.11558, 3.84424, 2.88984, 2.91544, 2.91497, 2.88304,# H\n",
    "      0,       0,       0,       0,       0,       0,       0,       0,       0,# M\n",
    "4.06168, 4.11558,       0, 7.44687,       0, 3.77161, 3.38928, 3.08093, 3.04602,# Li\n",
    "3.83356, 3.84424,       0,       0, 5.29883, 4.07891, 3.02363, 2.86367, 2.77949,# Na\n",
    "3.62593, 2.88984,       0, 3.77161, 4.07891, 3.32578,       0,       0,       0,#  F\n",
    "3.27841, 2.91544,       0, 3.38928, 3.02363,       0, 2.90742,       0,       0,# Cl\n",
    "3.06223, 2.91497,       0, 3.08093, 2.86367,       0,       0, 2.58457,       0,# Br\n",
    "2.71168, 2.88304,       0, 3.04602, 2.77949,       0,       0,       0, 2.90977,#  I\n",
    "]\n",
    "\n",
    "Atable_50 = [\n",
    "#     O        H        M       Li       Na        F       Cl       Br        I\n",
    "      0,       0,       0, 34093.9, 53268.8,   38290,   49488, 37542.7, 21343.5,  #O\n",
    "      0,       0,       0, 3802.56, 5246.9,  1231.27, 3422.72,  4776.13, 7259.5,  # H\n",
    "      0,       0,       0,       0,       0,       0,       0,       0,       0,  # M\n",
    "34093.9, 3802.56,       0, 53757.6,       0, 23994.7, 37001.3, 33460.7, 46676.4,  # Li\n",
    "53268.8,  5246.9,       0,       0,  148248, 71367.6, 40193.9, 40711.5, 48844.2,  # Na\n",
    "  38290, 1231.27,       0, 23994.7, 71367.6, 12784.7,       0,       0,       0,  # F\n",
    "  49488, 3422.72,       0, 37001.3, 40193.9,       0, 31623.2,       0,       0,  # Cl\n",
    "37542.7, 4776.13,       0, 33460.7, 40711.5,       0,       0, 22256.6,       0,  # Br\n",
    "21343.5,  7259.5,       0, 46676.4, 48844.2,       0,       0,       0,  150494,  # I\n",
    "]\n",
    "\n",
    "#btable_50 = d6table_50"
   ]
  },
  {
   "cell_type": "code",
   "execution_count": 8,
   "metadata": {
    "collapsed": false,
    "scrolled": true
   },
   "outputs": [],
   "source": [
    "Script = ForceField.find(\"./Script\") \n",
    "#etree.dump(Script)"
   ]
  },
  {
   "cell_type": "code",
   "execution_count": 9,
   "metadata": {
    "collapsed": false
   },
   "outputs": [],
   "source": [
    "if percent_pol == 1:\n",
    "    d6table = d6table_100\n",
    "    Atable  = Atable_100\n",
    "elif percent_pol == .5:\n",
    "    d6table = d6table_50\n",
    "    Atable  = Atable_50\n",
    "\n",
    "Script.text = Script.text.format(d6table=str(d6table),Atable=str(Atable))\n",
    "#etree.dump(Script)"
   ]
  },
  {
   "cell_type": "code",
   "execution_count": 10,
   "metadata": {
    "collapsed": false
   },
   "outputs": [],
   "source": [
    "#etree.dump(ForceField)"
   ]
  },
  {
   "cell_type": "code",
   "execution_count": 11,
   "metadata": {
    "collapsed": false
   },
   "outputs": [],
   "source": [
    "#bytes.decode(etree.tostring( ForceField ))"
   ]
  },
  {
   "cell_type": "code",
   "execution_count": 12,
   "metadata": {
    "collapsed": false
   },
   "outputs": [],
   "source": [
    "filename = \"i-TTM_{}.xml\".format(int(100*percent_pol))\n",
    "with open(filename, \"w\" ) as f:\n",
    "    f.write(bytes.decode(etree.tostring( ForceField )))"
   ]
  },
  {
   "cell_type": "code",
   "execution_count": null,
   "metadata": {
    "collapsed": false
   },
   "outputs": [],
   "source": []
  },
  {
   "cell_type": "code",
   "execution_count": null,
   "metadata": {
    "collapsed": true
   },
   "outputs": [],
   "source": []
  }
 ],
 "metadata": {
  "kernelspec": {
   "display_name": "Python 3",
   "language": "python",
   "name": "python3"
  },
  "language_info": {
   "codemirror_mode": {
    "name": "ipython",
    "version": 3
   },
   "file_extension": ".py",
   "mimetype": "text/x-python",
   "name": "python",
   "nbconvert_exporter": "python",
   "pygments_lexer": "ipython3",
   "version": "3.5.1"
  }
 },
 "nbformat": 4,
 "nbformat_minor": 0
}
